{
  "nbformat": 4,
  "nbformat_minor": 0,
  "metadata": {
    "colab": {
      "provenance": [],
      "collapsed_sections": []
    },
    "kernelspec": {
      "name": "python3",
      "display_name": "Python 3"
    },
    "language_info": {
      "name": "python"
    }
  },
  "cells": [
    {
      "cell_type": "markdown",
      "source": [
        "# Mangrove in Cambodia\n",
        "\n",
        "*Written by Men Vuthy, 2022*\n",
        "\n",
        "---\n",
        "\n",
        "\\\n",
        "These data are retrieved from the dataset of the Global Mangrove Watch (GMW) version 3.0. Ref: https://www.mdpi.com/2072-4292/14/15/3657\n",
        "\n",
        "[![Github repo](https://img.shields.io/badge/GitHub-Repository-red.svg)](https://github.com/menvuthy/Mangrove-in-Cambodia)\n",
        "[![DOI](https://img.shields.io/badge/DOI-10.5281/zenodo.6894273-blue.svg)](https://doi.org/10.3390/rs14153657)\n",
        "\n"
      ],
      "metadata": {
        "id": "nDR1au6H9bJx"
      }
    },
    {
      "cell_type": "markdown",
      "source": [
        "*Mount Google Drive*"
      ],
      "metadata": {
        "id": "bbGE_XH8i7np"
      }
    },
    {
      "cell_type": "code",
      "source": [
        "from google.colab import drive\n",
        "drive.mount('/content/drive')"
      ],
      "metadata": {
        "id": "FHbzb580i9ML"
      },
      "execution_count": null,
      "outputs": []
    },
    {
      "cell_type": "markdown",
      "source": [
        "*Set path to local drive directory*"
      ],
      "metadata": {
        "id": "8rOa7zHxjBCW"
      }
    },
    {
      "cell_type": "code",
      "source": [
        "cd /content/drive/MyDrive/Colab Notebooks/Other topic/Mangrove in Cambodia"
      ],
      "metadata": {
        "id": "8iIl1DKyowyo"
      },
      "execution_count": null,
      "outputs": []
    },
    {
      "cell_type": "markdown",
      "source": [
        "*Install and import modules*"
      ],
      "metadata": {
        "id": "_aeeukwMjReI"
      }
    },
    {
      "cell_type": "code",
      "source": [
        "!pip install rasterio\n",
        "!pip install contextily"
      ],
      "metadata": {
        "id": "_iQr_qrww0vN"
      },
      "execution_count": null,
      "outputs": []
    },
    {
      "cell_type": "code",
      "source": [
        "import os\n",
        "import glob\n",
        "import numpy as np\n",
        "import pandas as pd\n",
        "import matplotlib.pyplot as plt\n",
        "from mpl_toolkits.axes_grid1 import make_axes_locatable\n",
        "\n",
        "import rasterio\n",
        "from rasterio.plot import show\n",
        "import contextily as ctx"
      ],
      "metadata": {
        "id": "On9ZePGNo-Bs"
      },
      "execution_count": 2,
      "outputs": []
    },
    {
      "cell_type": "markdown",
      "source": [
        "<div class=\"markdown-google-sans\">\n",
        "\n",
        "## **1. Read datasource**\n",
        "</div>\n"
      ],
      "metadata": {
        "id": "y84WDSaVhvwh"
      }
    },
    {
      "cell_type": "code",
      "source": [
        "# File and folder paths\n",
        "file_path = \"data\"\n",
        "\n",
        "# Make a search criteria to select the ndvi files\n",
        "q = os.path.join(file_path, \"*.tif\")\n",
        "\n",
        "# sorted files by name\n",
        "paths = sorted(glob.glob(q)) \n",
        "\n",
        "# Open all files in folder\n",
        "image_source, image_array = [], []\n",
        "\n",
        "# Create a list of filepath\n",
        "for file in paths:\n",
        "    image = rasterio.open(file)\n",
        "    array = image.read(1)\n",
        "    image_source.append(image)\n",
        "    image_array.append(array)\n",
        "image_source"
      ],
      "metadata": {
        "id": "zCg0regTpAGP"
      },
      "execution_count": null,
      "outputs": []
    },
    {
      "cell_type": "markdown",
      "source": [
        "<div class=\"markdown-google-sans\">\n",
        "\n",
        "## **2. Calculate Mangrove Period of Existence from 1996 to 2020**\n",
        "</div>"
      ],
      "metadata": {
        "id": "TYVLXJiWmYQS"
      }
    },
    {
      "cell_type": "markdown",
      "source": [
        "*Calculate Mangrove Change over 20 years*"
      ],
      "metadata": {
        "id": "cKeAaIspnVSs"
      }
    },
    {
      "cell_type": "code",
      "source": [
        "# Create list of year\n",
        "year_list = []\n",
        "for i in paths:\n",
        "  year_list.append(int(i[23:-4]))\n",
        "\n",
        "# Create number of years\n",
        "i = 0\n",
        "num_year = []\n",
        "while i < 10:\n",
        "    if i == 0:\n",
        "      num_year.append(1)\n",
        "    num_year.append((year_list[i+1] - year_list[i]))\n",
        "    if i == 10:\n",
        "        num_year.append(1)\n",
        "        break\n",
        "    i += 1\n",
        "\n",
        "# Create new array with number of year\n",
        "new_image_array = []\n",
        "for i in range(len(image_array)):\n",
        "  array = np.where(image_array[i] != 0, num_year[i], image_array[i])\n",
        "  new_image_array.append(array)\n",
        "\n",
        "# Create mangrove change from 1996 to 2020\n",
        "mangrove_change = sum(new_image_array)"
      ],
      "metadata": {
        "id": "7gTd8uiUqRxp"
      },
      "execution_count": 4,
      "outputs": []
    },
    {
      "cell_type": "markdown",
      "source": [
        "*Create plot for visualizing output data*"
      ],
      "metadata": {
        "id": "Cur9p4VQnvUl"
      }
    },
    {
      "cell_type": "code",
      "source": [
        "# Create plot\n",
        "fig = plt.subplots(figsize=(10, 10))\n",
        "plt.imshow(mangrove_change, plt.cm.jet)\n",
        "plt.title('Mangrove Change in Cambodia from 1996 to 2020', fontsize=15)\n",
        "plt.show();"
      ],
      "metadata": {
        "id": "0p7yQCx4zbav"
      },
      "execution_count": null,
      "outputs": []
    },
    {
      "cell_type": "code",
      "source": [
        "# Create plot of annual mangrove\n",
        "for i in range(len(image_array)):\n",
        "  fig = plt.subplots(figsize=(15, 10))\n",
        "  plt.imshow(image_array[i], plt.cm.jet)\n",
        "  plt.title('Mangrove in Cambodia - '+paths[i][23:-4], fontsize=15)\n",
        "  plt.savefig('image/mangrove_cambodia_'+paths[i][23:-4]+'.png', dpi=300)\n",
        "  plt.clf()"
      ],
      "metadata": {
        "id": "3GOD-R4N82JG"
      },
      "execution_count": null,
      "outputs": []
    },
    {
      "cell_type": "markdown",
      "source": [
        "*Export output of Mangrove change to image in geotif (.tif)*"
      ],
      "metadata": {
        "id": "S3mZUf2u2VwZ"
      }
    },
    {
      "cell_type": "code",
      "source": [
        "# Copy the metadata\n",
        "meta = image_source[0].meta.copy()\n",
        "\n",
        "# outputh path\n",
        "out_fp = \"result/\"\n",
        "\n",
        "# Output raster\n",
        "output = os.path.join(out_fp, \"mangrove_change_96_20.tif\")\n",
        "\n",
        "# Update the metadata\n",
        "meta.update({'driver': 'GTiff',\n",
        "                 'dtype': 'uint8',\n",
        "                 'nodata': 0,\n",
        "                 'width': mangrove_change.shape[1],\n",
        "                 'height': mangrove_change.shape[0],\n",
        "                 'crs': image_source[0].crs,\n",
        "                 'count':1,\n",
        "                 'transform': image_source[0].transform\n",
        "                })\n",
        "# Write image\n",
        "with rasterio.open(output, \"w\", **meta) as dest:\n",
        "    dest.write(mangrove_change.astype(np.uint8), indexes=1)"
      ],
      "metadata": {
        "id": "LnYHjNvu1NLp"
      },
      "execution_count": null,
      "outputs": []
    },
    {
      "cell_type": "markdown",
      "source": [
        "<div class=\"markdown-google-sans\">\n",
        "\n",
        "## **3. Calculate Loss and Gain of Mangrove from 1996 to 2020**\n",
        "</div>"
      ],
      "metadata": {
        "id": "t7z5i7LK45RH"
      }
    },
    {
      "cell_type": "markdown",
      "source": [
        "*Calculate loss and gain*"
      ],
      "metadata": {
        "id": "wK-OdEyUpvew"
      }
    },
    {
      "cell_type": "code",
      "source": [
        "# Calculate Loss\n",
        "loss = image_array[0] - image_array[10]\n",
        "loss = np.where(loss == 255, 0, loss)\n",
        "\n",
        "# Calculate Gain\n",
        "gain = image_array[10] - image_array[0]\n",
        "gain = np.where(gain == 255, 0, gain)"
      ],
      "metadata": {
        "id": "ONB4YmZw17zm"
      },
      "execution_count": 5,
      "outputs": []
    },
    {
      "cell_type": "markdown",
      "source": [
        "*Export loss mangrove to image in geotiff (.tif)*"
      ],
      "metadata": {
        "id": "nAWTvsyepyW_"
      }
    },
    {
      "cell_type": "code",
      "source": [
        "# Copy the metadata\n",
        "meta = image_source[0].meta.copy()\n",
        "\n",
        "# outputh path\n",
        "out_fp = \"result/\"\n",
        "\n",
        "# Output raster\n",
        "output = os.path.join(out_fp, \"mangrove_loss_96_20.tif\")\n",
        "\n",
        "# Update the metadata\n",
        "meta.update({'driver': 'GTiff',\n",
        "                 'dtype': 'uint8',\n",
        "                 'nodata': 0,\n",
        "                 'width': loss.shape[1],\n",
        "                 'height': loss.shape[0],\n",
        "                 'crs': image_source[0].crs,\n",
        "                 'count':1,\n",
        "                 'transform': image_source[0].transform\n",
        "                })\n",
        "# Write image\n",
        "with rasterio.open(output, \"w\", **meta) as dest:\n",
        "    dest.write(loss.astype(np.uint8), indexes=1)"
      ],
      "metadata": {
        "id": "mYklLk7e5asP"
      },
      "execution_count": null,
      "outputs": []
    },
    {
      "cell_type": "markdown",
      "source": [
        "*Export gain mangrove to image in geotiff (.tif)*"
      ],
      "metadata": {
        "id": "48NACyxkp6hJ"
      }
    },
    {
      "cell_type": "code",
      "source": [
        "# Copy the metadata\n",
        "meta = image_source[0].meta.copy()\n",
        "\n",
        "# outputh path\n",
        "out_fp = \"result/\"\n",
        "\n",
        "# Output raster\n",
        "output = os.path.join(out_fp, \"mangrove_gain_96_20.tif\")\n",
        "\n",
        "# Update the metadata\n",
        "meta.update({'driver': 'GTiff',\n",
        "                 'dtype': 'uint8',\n",
        "                 'nodata': 0,\n",
        "                 'width': gain.shape[1],\n",
        "                 'height': gain.shape[0],\n",
        "                 'crs': image_source[0].crs,\n",
        "                 'count':1,\n",
        "                 'transform': image_source[0].transform\n",
        "                })\n",
        "# Write image\n",
        "with rasterio.open(output, \"w\", **meta) as dest:\n",
        "    dest.write(gain.astype(np.uint8), indexes=1)"
      ],
      "metadata": {
        "id": "yshvxC0o5kKP"
      },
      "execution_count": null,
      "outputs": []
    },
    {
      "cell_type": "markdown",
      "source": [
        "<div class=\"markdown-google-sans\">\n",
        "\n",
        "## **4. Visualization**\n",
        "</div>"
      ],
      "metadata": {
        "id": "_1XQ9a4Kq43D"
      }
    },
    {
      "cell_type": "code",
      "source": [
        "# Parameter\n",
        "transform = image_source[0].transform\n",
        "\n",
        "# Create plot\n",
        "fig, (ax1, ax2, ax3) = plt.subplots(1,3, figsize=(20,7))\n",
        "# use imshow so that we have something to map the colorbar to\n",
        "image_hidden = ax1.imshow(mangrove_change, \n",
        "                         cmap=plt.cm.jet, \n",
        "                         vmin=0, \n",
        "                         vmax=25)\n",
        "divider = make_axes_locatable(ax1)\n",
        "cax = divider.append_axes('right', size='3%', pad=0.1)\n",
        "\n",
        "# Mangrove change\n",
        "show(mangrove_change, ax=ax1, cmap=plt.cm.jet, transform=transform, title='Mangrove Change')\n",
        "ax1.set_xlim(102.85, 103.2)\n",
        "ax1.set_ylim(11.4, 11.7)\n",
        "ax1.set_ylabel('Longitude')\n",
        "ax1.set_xlabel('Latitude')\n",
        "# Mangrove loss\n",
        "show(loss, ax=ax2, cmap=plt.cm.jet, transform=transform, title='Mangrove Loss')\n",
        "ax2.set_xlim(102.85, 103.2)\n",
        "ax2.set_ylim(11.4, 11.7)\n",
        "ax2.set_ylabel('Longitude')\n",
        "ax2.set_xlabel('Latitude')\n",
        "\n",
        "# Mangrove gain\n",
        "show(gain, ax=ax3, cmap=plt.cm.jet, transform=transform, title='Mangrove Gain')\n",
        "ax3.set_xlim(102.85, 103.2)\n",
        "ax3.set_ylim(11.4, 11.7)\n",
        "ax3.set_ylabel('Longitude')\n",
        "ax3.set_xlabel('Latitude')\n",
        "\n",
        "# add colorbar using the now hidden image\n",
        "fig.colorbar(image_hidden, cax=cax)\n",
        "\n",
        "plt.tight_layout()\n",
        "plt.savefig('image/image-2.png', dpi=300)"
      ],
      "metadata": {
        "id": "rWsSNdVy5okM"
      },
      "execution_count": null,
      "outputs": []
    },
    {
      "cell_type": "code",
      "source": [],
      "metadata": {
        "id": "sMZYVKXJ52Ej"
      },
      "execution_count": null,
      "outputs": []
    }
  ]
}